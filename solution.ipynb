{
 "cells": [
  {
   "cell_type": "markdown",
   "metadata": {},
   "source": [
    "# Task\n",
    "\n",
    "You will be given a PDF document that contains both textual and graphical data. Your task is to:\n",
    "\n",
    "* Extract the textual and graphical information from the PDF pages.\n",
    "* Convert the extracted graphical data (such as charts or graphs) into a structured, queryable format.\n",
    "* Implement a system where users can ask questions and receive meaningful responses based on the extracted data.\n",
    "\n",
    "\n",
    "Requirements:\n",
    "* Document your approach and display your results in a Jupyter notebook (.ipynb)\n",
    "* Your solution should allow users to query both the extracted text and any data that was derived from the graphical elements (such as tables).\n",
    "* Provide brief explanations of your approach, choices made, and any challenges you encountered.\n",
    "\n",
    "---\n",
    "# Approaches\n",
    "\n",
    "Following the presented notebook, you may find two approaches:\n",
    "1. The short method, which uses the pdf as an input and allows for discussion based on the pdf context\n",
    "2. The larger one, which uses a manual extraction of the contents of the pdf in order to feed it to the RAG solution in a similar manner to the first approach\n",
    "\n",
    "### Discussion\n",
    "\n",
    "Both approaches make good use of the RAG system provided via <a href=\"https://python.langchain.com/\">langchain</a> and <a href=\"https://huggingface.co/mistralai/Mistral-7B-Instruct-v0.2\">Mistral-7B-Instruct-v0.2</a>.\n",
    "\n",
    "The second approach makes use of the PdfFileManager class that I have implemented, which aims to extract all text and graphical data manually. Despite the text extraction not being as much of a difficult task, the extraction of the charts and diagrams is a challenge I have not managed to overcome manually. I turned to converting the pages of the given pdf into images, followed by placing them in a pretrained <a href = \"https://huggingface.co/naver-clova-ix/donut-base-finetuned-docvqa\">donut</a> or a <a href = \"https://huggingface.co/naver-clova-ix/donut-base-finetuned-docvqa\">GPT-Vision-1-ft</a> model in order to achieve the retrieval of the graphical data and, later on, converting that data into a queryable format, but those trails have met no success, therefore, I have not managed to achieve the second point from this task in the expected manner.\n",
    "\n",
    "A possible way to achieve the task might have been to, optionally, have a network that does a segmentation task over the graphs/charts/diagrams. Those graphs (or entire pages containing graphs) could have then been interpreted by another network, like a GPT-4 Vision network, which is able to perform the task of chart description.\n",
    "\n",
    "### Conclusions:\n",
    "\n",
    "The first approach cannot make use of a graph interpreter, as it uses the pdf as a whole for the input. In addition, the statistical data on the charts that are given, which, in this case, are text and .svg based, is interpreted better than I have personally expected. (see \"TESTS FOR APPROACH No. 1\" section)\n",
    "\n",
    "Because the graphs in the pdf file contain text information, that information will be scraped too when collecting the entire textual data. This leads to some interestingly good results when creating an interpretation from the second approach. So, despite not being able to correctly extract the graphs manually and create queryable data from them, the task seems to be successfully achieved."
   ]
  },
  {
   "cell_type": "code",
   "execution_count": 1,
   "metadata": {},
   "outputs": [],
   "source": [
    "import getpass\n",
    "import os\n",
    "\n",
    "if \"HUGGINGFACEHUB_API_TOKEN\" not in os.environ:\n",
    "    os.environ[\"HUGGINGFACEHUB_API_TOKEN\"]=\"#\" # personal Hugging Face user access token with read permission"
   ]
  },
  {
   "cell_type": "code",
   "execution_count": 2,
   "metadata": {},
   "outputs": [],
   "source": [
    "from langchain.document_loaders import UnstructuredPDFLoader\n",
    "from langchain.indexes import VectorstoreIndexCreator\n",
    "from langchain.embeddings import HuggingFaceEmbeddings\n",
    "from langchain.text_splitter import CharacterTextSplitter\n",
    "from langchain.chains.question_answering import load_qa_chain\n",
    "from langchain import HuggingFaceHub\n",
    "from langchain_community.llms import HuggingFaceEndpoint\n"
   ]
  },
  {
   "cell_type": "markdown",
   "metadata": {},
   "source": [
    "## Approach No.1"
   ]
  },
  {
   "cell_type": "code",
   "execution_count": 3,
   "metadata": {},
   "outputs": [
    {
     "name": "stderr",
     "output_type": "stream",
     "text": [
      "C:\\Users\\Dragos\\AppData\\Local\\Temp\\ipykernel_20800\\1424535702.py:4: LangChainDeprecationWarning: The class `HuggingFaceEmbeddings` was deprecated in LangChain 0.2.2 and will be removed in 1.0. An updated version of the class exists in the :class:`~langchain-huggingface package and should be used instead. To use it run `pip install -U :class:`~langchain-huggingface` and import as `from :class:`~langchain_huggingface import HuggingFaceEmbeddings``.\n",
      "  embedding=HuggingFaceEmbeddings(),\n",
      "C:\\Users\\Dragos\\AppData\\Local\\Temp\\ipykernel_20800\\1424535702.py:4: LangChainDeprecationWarning: Default values for HuggingFaceEmbeddings.model_name were deprecated in LangChain 0.2.16 and will be removed in 0.4.0. Explicitly pass a model_name to the HuggingFaceEmbeddings constructor instead.\n",
      "  embedding=HuggingFaceEmbeddings(),\n",
      "c:\\Users\\Dragos\\anaconda3\\envs\\_ECMX_\\Lib\\site-packages\\sentence_transformers\\cross_encoder\\CrossEncoder.py:13: TqdmExperimentalWarning: Using `tqdm.autonotebook.tqdm` in notebook mode. Use `tqdm.tqdm` instead to force console mode (e.g. in jupyter console)\n",
      "  from tqdm.autonotebook import tqdm, trange\n",
      "c:\\Users\\Dragos\\anaconda3\\envs\\_ECMX_\\Lib\\site-packages\\langchain\\indexes\\vectorstore.py:128: UserWarning: Using InMemoryVectorStore as the default vectorstore.This memory store won't persist data. You should explicitlyspecify a vectorstore when using VectorstoreIndexCreator\n",
      "  warnings.warn(\n",
      "C:\\Users\\Dragos\\AppData\\Local\\Temp\\ipykernel_20800\\1424535702.py:6: LangChainDeprecationWarning: The class `HuggingFaceEndpoint` was deprecated in LangChain 0.0.37 and will be removed in 1.0. An updated version of the class exists in the :class:`~langchain-huggingface package and should be used instead. To use it run `pip install -U :class:`~langchain-huggingface` and import as `from :class:`~langchain_huggingface import HuggingFaceEndpoint``.\n",
      "  llm=HuggingFaceEndpoint(repo_id=\"mistralai/Mistral-7B-Instruct-v0.2\", temperature=0.1, max_length=512)\n",
      "WARNING! max_length is not default parameter.\n",
      "                    max_length was transferred to model_kwargs.\n",
      "                    Please make sure that max_length is what you intended.\n"
     ]
    },
    {
     "name": "stdout",
     "output_type": "stream",
     "text": [
      "The token has not been saved to the git credentials helper. Pass `add_to_git_credential=True` in this function directly or `--add-to-git-credential` if using via `huggingface-cli` if you want to set the git credential as well.\n",
      "Token is valid (permission: read).\n",
      "Your token has been saved to C:\\Users\\Dragos\\.cache\\huggingface\\token\n",
      "Login successful\n"
     ]
    }
   ],
   "source": [
    "pdf_folder_path = \"./input\" # in case there are multiple pdf files given as input\n",
    "loaders = [UnstructuredPDFLoader(os.path.join(pdf_folder_path, fn)) for fn in os.listdir(pdf_folder_path)] #we may be able to lead all of them\n",
    "index = VectorstoreIndexCreator( # and create embeddings for the input data in order for the network to retrive it\n",
    "    embedding=HuggingFaceEmbeddings(),\n",
    "    text_splitter=CharacterTextSplitter(chunk_size=1000, chunk_overlap=0)).from_loaders(loaders) # we also split the input in chuncks\n",
    "llm=HuggingFaceEndpoint(repo_id=\"mistralai/Mistral-7B-Instruct-v0.2\", temperature=0.1, max_length=512)"
   ]
  },
  {
   "cell_type": "code",
   "execution_count": 4,
   "metadata": {},
   "outputs": [],
   "source": [
    "from langchain.chains import RetrievalQA\n",
    "chain = RetrievalQA.from_chain_type(llm=llm,\n",
    "                                    chain_type=\"stuff\",\n",
    "                                    retriever=index.vectorstore.as_retriever(),\n",
    "                                    input_key=\"question\")"
   ]
  },
  {
   "cell_type": "markdown",
   "metadata": {},
   "source": [
    "## Tests for Approach No. 1"
   ]
  },
  {
   "cell_type": "code",
   "execution_count": 5,
   "metadata": {},
   "outputs": [
    {
     "name": "stderr",
     "output_type": "stream",
     "text": [
      "C:\\Users\\Dragos\\AppData\\Local\\Temp\\ipykernel_20800\\1876768237.py:1: LangChainDeprecationWarning: The method `Chain.run` was deprecated in langchain 0.1.0 and will be removed in 1.0. Use :meth:`~invoke` instead.\n",
      "  chain.run('Give me a tip for energy saving')\n"
     ]
    },
    {
     "data": {
      "text/plain": [
       "' One of the biggest energy wasters in your home is drafty windows and doors. Caulking drafty areas is a simple DIY project that can save you money and energy.'"
      ]
     },
     "execution_count": 5,
     "metadata": {},
     "output_type": "execute_result"
    }
   ],
   "source": [
    "chain.run('Give me a tip for energy saving')"
   ]
  },
  {
   "cell_type": "code",
   "execution_count": 6,
   "metadata": {},
   "outputs": [
    {
     "data": {
      "text/plain": [
       "\" Based on the information provided in the Home Energy Report, your electrical use is 18% more than similar nearby homes. This means that you are using more electricity than the average household in your area with a similar size and fuel type. To save energy and reduce your electricity bill, consider implementing the energy-saving tips provided in the report, such as caulking windows and doors, upgrading your refrigerator, and adjusting your thermostat settings. Additionally, you may want to evaluate your home's energy efficiency with a Home Energy Audit to identify other areas where you can save energy and money.\""
      ]
     },
     "execution_count": 6,
     "metadata": {},
     "output_type": "execute_result"
    }
   ],
   "source": [
    "chain.run('How is my electrical use?')"
   ]
  },
  {
   "cell_type": "code",
   "execution_count": 7,
   "metadata": {},
   "outputs": [
    {
     "data": {
      "text/plain": [
       "\" The annual electricity chart shows that the person's electricity usage is higher than the average usage of similar-sized homes in their area, but lower than the usage of the most efficient homes. The chart also suggests that the person could save energy and money by pre-heating their home on cold days, setting their smart thermostat to save energy during high-cost hours, and evaluating their home's energy efficiency with a Home Energy Audit. Additionally, the person is encouraged to caulk drafty windows and doors, upgrade their refrigerator, and adjust their thermostat settings to save energy.\""
      ]
     },
     "execution_count": 7,
     "metadata": {},
     "output_type": "execute_result"
    }
   ],
   "source": [
    "chain.run(\"What can be notted from the way the annual electricity chart looks?\")"
   ]
  },
  {
   "cell_type": "code",
   "execution_count": 8,
   "metadata": {},
   "outputs": [
    {
     "data": {
      "text/plain": [
       "\" The annual electricity graph compares the electricity usage of the account holder with similar and efficient homes. It quantifies three elements: the account holder's electricity usage, the electricity usage of similar homes, and the electricity usage of efficient homes.\""
      ]
     },
     "execution_count": 8,
     "metadata": {},
     "output_type": "execute_result"
    }
   ],
   "source": [
    "chain.run(\"How many elements are quantified in the annual electricity graph?\")"
   ]
  },
  {
   "cell_type": "code",
   "execution_count": 9,
   "metadata": {},
   "outputs": [
    {
     "data": {
      "text/plain": [
       "' The first chart in the document compares the annual electricity use of the household (represented by the blue bar labeled \"You\") with similar and efficient homes in the area. The chart shows that the household uses 18% more electricity than similar homes and is above the typical use. The chart also includes a breakdown of the electricity use for nearby homes, with efficient homes using the least electricity and similar homes using an intermediate amount. The chart is intended to help the household understand their electricity use in comparison to others in the area and identify opportunities for energy savings.'"
      ]
     },
     "execution_count": 9,
     "metadata": {},
     "output_type": "execute_result"
    }
   ],
   "source": [
    "chain.run(\"In this document there are a couple of charts. Describe to me the meaning of the fiirst one.\")"
   ]
  },
  {
   "cell_type": "markdown",
   "metadata": {},
   "source": [
    "## Approach No. 2"
   ]
  },
  {
   "cell_type": "code",
   "execution_count": 10,
   "metadata": {},
   "outputs": [],
   "source": [
    "import PdfFileManager\n",
    "from langchain.vectorstores import FAISS\n",
    "from langchain.document_loaders import TextLoader"
   ]
  },
  {
   "cell_type": "code",
   "execution_count": 11,
   "metadata": {},
   "outputs": [],
   "source": [
    "input_pdf = PdfFileManager.PdfFileManager(\"./input/test_info_extract.pdf\")\n",
    "loader = TextLoader('./output/pdf_text.txt')\n",
    "documents = loader.load()"
   ]
  },
  {
   "cell_type": "code",
   "execution_count": 12,
   "metadata": {},
   "outputs": [
    {
     "data": {
      "text/plain": [
       "[Document(metadata={'source': './output/pdf_text.txt'}, page_content=\"waiting until you have a full load to run your laundry can save up to 6% of your energy use. watch this space for new ways to save energy each month. monthly savings tip: do full laundry loads. turn over for more savings ideas. nearby homes are defined as... nearby homes are based on fuel, distance and size. square footage is collected from public information sources. efficient nearby homes are the top 15 per cent efficient of similar-sized homes nearby. homes within +/- 300 sq. ft. homes within 9 km other homes with electricity dear jill doe, here is your usage analysis for march. 18% more than similar nearby homes 125 kwh 103 kwh similar nearby homes you 49 kwh efficient nearby homes your electric use: above typical use march report account number: 954137 service address: 1627 tulip lane home energy report: electricity find your personalized analysis of your electrical energy use. scan this code or log in to your account at franklinenergy.com. seven year savings is the money you can save after purchase, installation and maintenance costs, as well as rebates, have been accounted for. all estimates are based on standard net home proﬁle assumptions; to improve the accuracy and further customize your xcel energy savings plan, visit xcelenergy.com. for questions, contact us at 800.895.4999. all the costs of each action are estimates; check your savings plan for links to local contractors and suppliers who can provide actual costs. this home energy report was prepared speciﬁcally for you, and is provided to help you get the most value from your xcel energy service. this report is available only to you, and is based on your usage proﬁle and other publicly available information. a message from xcel energy, inc., ©2023. all rights reserved. your top three tailored energy-saving tips one of the biggest money-wasters in your home is drafty windows and doors. caulking drafty areas is a simple diy project that will pay off. caulk windows and doors save money and energy set your smart thermostat to save more energy during high-cost hours. pre-heat your home on cold days so that you can save more energy. adjust thermostat settings biggest energy saving option charge your electric vehicle overnight for the best rates. check whether your home charger includes an automated charging feature that you can use. charge your ev overnight rates are lower after 9pm 78° save more this spring reduce use and save money on your electric bill with these thorough tips, from the kitchen to the laundry room. visit co.my.xcelenergy.com/s/residential/tips. evaluate your energy efficiency bring in the professionals! assess your home's energy efficiency with a home energy audit. visit xcelenergy.com/homeenergyaudit. kwh you similar homes efficient homes 0 50 100 150 200 your annual electricity use compared with similar and efficient homes april march your top three tailored energy-saving tips one of the biggest money-wasters in your home is drafty windows and doors. caulking drafty areas is a simple diy project that will pay off. caulk windows and doors save money and energy set your smart thermostat to save more energy during high-cost hours. pre-heat your home on cold days so that you can save more energy. adjust thermostat settings biggest energy saving option older model refrigerators are very inefficient. you can make up the cost of a new energy star refrigerator in energy savings in just a few years. upgrade your refrigerator look for an energy star label 78°\")]"
      ]
     },
     "execution_count": 12,
     "metadata": {},
     "output_type": "execute_result"
    }
   ],
   "source": [
    "documents"
   ]
  },
  {
   "cell_type": "code",
   "execution_count": 13,
   "metadata": {},
   "outputs": [],
   "source": [
    "import textwrap\n",
    "\n",
    "def wrap_text_preserve_newlines(text, width=110):\n",
    "    # Split the input text into lines based on newline characters\n",
    "    lines = text.split('\\n')\n",
    "\n",
    "    # Wrap each line individually\n",
    "    wrapped_lines = [textwrap.fill(line, width=width) for line in lines]\n",
    "\n",
    "    # Join the wrapped lines back together using newline characters\n",
    "    wrapped_text = '\\n'.join(wrapped_lines)\n",
    "\n",
    "    return wrapped_text"
   ]
  },
  {
   "cell_type": "code",
   "execution_count": 14,
   "metadata": {},
   "outputs": [
    {
     "name": "stdout",
     "output_type": "stream",
     "text": [
      "page_content='waiting until you have a full load to run your laundry can save up to 6% of your energy use.\n",
      "watch this space for new ways to save energy each month. monthly savings tip: do full laundry loads. turn over\n",
      "for more savings ideas. nearby homes are defined as... nearby homes are based on fuel, distance and size.\n",
      "square footage is collected from public information sources. efficient nearby homes are the top 15 per cent\n",
      "efficient of similar-sized homes nearby. homes within +/- 300 sq. ft. homes within 9 km other homes with\n",
      "electricity dear jill doe, here is your usage analysis for march. 18% more than similar nearby homes 125 kwh\n",
      "103 kwh similar nearby homes you 49 kwh efficient nearby homes your electric use: above typical use march\n",
      "report account number: 954137 service address: 1627 tulip lane home energy report: electricity find your\n",
      "personalized analysis of your electrical energy use. scan this code or log in to your account at\n",
      "franklinenergy.com. seven year savings is the money you can save after purchase, installation and maintenance\n",
      "costs, as well as rebates, have been accounted for. all estimates are based on standard net home proﬁle\n",
      "assumptions; to improve the accuracy and further customize your xcel energy savings plan, visit\n",
      "xcelenergy.com. for questions, contact us at 800.895.4999. all the costs of each action are estimates; check\n",
      "your savings plan for links to local contractors and suppliers who can provide actual costs. this home energy\n",
      "report was prepared speciﬁcally for you, and is provided to help you get the most value from your xcel energy\n",
      "service. this report is available only to you, and is based on your usage proﬁle and other publicly available\n",
      "information. a message from xcel energy, inc., ©2023. all rights reserved. your top three tailored energy-\n",
      "saving tips one of the biggest money-wasters in your home is drafty windows and doors. caulking drafty areas\n",
      "is a simple diy project that will pay off. caulk windows and doors save money and energy set your smart\n",
      "thermostat to save more energy during high-cost hours. pre-heat your home on cold days so that you can save\n",
      "more energy. adjust thermostat settings biggest energy saving option charge your electric vehicle overnight\n",
      "for the best rates. check whether your home charger includes an automated charging feature that you can use.\n",
      "charge your ev overnight rates are lower after 9pm 78° save more this spring reduce use and save money on your\n",
      "electric bill with these thorough tips, from the kitchen to the laundry room. visit\n",
      "co.my.xcelenergy.com/s/residential/tips. evaluate your energy efficiency bring in the professionals! assess\n",
      "your home's energy efficiency with a home energy audit. visit xcelenergy.com/homeenergyaudit. kwh you similar\n",
      "homes efficient homes 0 50 100 150 200 your annual electricity use compared with similar and efficient homes\n",
      "april march your top three tailored energy-saving tips one of the biggest money-wasters in your home is drafty\n",
      "windows and doors. caulking drafty areas is a simple diy project that will pay off. caulk windows and doors\n",
      "save money and energy set your smart thermostat to save more energy during high-cost hours. pre-heat your home\n",
      "on cold days so that you can save more energy. adjust thermostat settings biggest energy saving option older\n",
      "model refrigerators are very inefficient. you can make up the cost of a new energy star refrigerator in energy\n",
      "savings in just a few years. upgrade your refrigerator look for an energy star label 78°' metadata={'source':\n",
      "'./output/pdf_text.txt'}\n"
     ]
    }
   ],
   "source": [
    "print(wrap_text_preserve_newlines(str(documents[0])))"
   ]
  },
  {
   "cell_type": "code",
   "execution_count": 15,
   "metadata": {},
   "outputs": [
    {
     "name": "stderr",
     "output_type": "stream",
     "text": [
      "C:\\Users\\Dragos\\AppData\\Local\\Temp\\ipykernel_20800\\2563534651.py:3: LangChainDeprecationWarning: Default values for HuggingFaceEmbeddings.model_name were deprecated in LangChain 0.2.16 and will be removed in 0.4.0. Explicitly pass a model_name to the HuggingFaceEmbeddings constructor instead.\n",
      "  embeddings = HuggingFaceEmbeddings()\n"
     ]
    }
   ],
   "source": [
    "text_splitter = CharacterTextSplitter(chunk_size=1000, chunk_overlap=0)\n",
    "docs = text_splitter.split_documents(documents)\n",
    "embeddings = HuggingFaceEmbeddings()"
   ]
  },
  {
   "cell_type": "code",
   "execution_count": 16,
   "metadata": {},
   "outputs": [
    {
     "name": "stderr",
     "output_type": "stream",
     "text": [
      "C:\\Users\\Dragos\\AppData\\Local\\Temp\\ipykernel_20800\\1558383361.py:2: LangChainDeprecationWarning: This class is deprecated. See the following migration guides for replacements based on `chain_type`:\n",
      "stuff: https://python.langchain.com/docs/versions/migrating_chains/stuff_docs_chain\n",
      "map_reduce: https://python.langchain.com/docs/versions/migrating_chains/map_reduce_chain\n",
      "refine: https://python.langchain.com/docs/versions/migrating_chains/refine_chain\n",
      "map_rerank: https://python.langchain.com/docs/versions/migrating_chains/map_rerank_docs_chain\n",
      "\n",
      "See also guides on retrieval and question-answering here: https://python.langchain.com/docs/how_to/#qa-with-rag\n",
      "  chain2 = load_qa_chain(llm, chain_type=\"stuff\")\n"
     ]
    }
   ],
   "source": [
    "db = FAISS.from_documents(docs, embeddings)\n",
    "chain2 = load_qa_chain(llm, chain_type=\"stuff\")"
   ]
  },
  {
   "cell_type": "markdown",
   "metadata": {},
   "source": [
    "## Tests for Approach No. 2"
   ]
  },
  {
   "cell_type": "code",
   "execution_count": 17,
   "metadata": {},
   "outputs": [
    {
     "data": {
      "text/plain": [
       "' One energy-saving tip is to caulk drafty windows and doors to prevent heat loss and save money on your energy bill. This is a simple DIY project that can make a big difference. Additionally, setting your smart thermostat to save energy during high-cost hours and pre-heating your home on cold days can also help you save energy and money.'"
      ]
     },
     "execution_count": 17,
     "metadata": {},
     "output_type": "execute_result"
    }
   ],
   "source": [
    "query = \"Give me a tip for energy saving.\"\n",
    "docs = db.similarity_search(query)\n",
    "chain2.run(input_documents=docs, question=query)"
   ]
  },
  {
   "cell_type": "code",
   "execution_count": 18,
   "metadata": {},
   "outputs": [
    {
     "data": {
      "text/plain": [
       "' Based on the information provided, your electrical use in March was 125 kWh, which is 18% more than similar nearby homes and 49 kWh above the efficient nearby homes. To save energy and money, consider implementing the energy-saving tips provided, such as caulking drafty areas, setting your smart thermostat, and charging your electric vehicle overnight. Additionally, upgrading to a more energy-efficient refrigerator could also result in significant energy savings.'"
      ]
     },
     "execution_count": 18,
     "metadata": {},
     "output_type": "execute_result"
    }
   ],
   "source": [
    "query = \"How is my electrical use?\"\n",
    "docs = db.similarity_search(query)\n",
    "chain2.run(input_documents=docs, question=query)"
   ]
  },
  {
   "cell_type": "code",
   "execution_count": 19,
   "metadata": {},
   "outputs": [
    {
     "data": {
      "text/plain": [
       "\" The annual electricity chart shows that the household's electricity usage is higher than that of similar and efficient homes. Specifically, the household's usage is 18% more than similar homes and 49 kWh higher than efficient homes. The chart also shows that the household's usage in March was 125 kWh, while similar homes used 103 kWh and efficient homes used 50 kWh. The top three energy-saving tips provided to the household are caulking drafty areas, setting the smart thermostat to save energy during high-cost hours, and upgrading to an energy-efficient refrigerator.\""
      ]
     },
     "execution_count": 19,
     "metadata": {},
     "output_type": "execute_result"
    }
   ],
   "source": [
    "query = \"What can be notted from the way the annual electricity chart looks?\"\n",
    "docs = db.similarity_search(query)\n",
    "chain2.run(input_documents=docs, question=query)"
   ]
  },
  {
   "cell_type": "code",
   "execution_count": 20,
   "metadata": {},
   "outputs": [
    {
     "data": {
      "text/plain": [
       "' The annual electricity graph quantifies three elements: your annual electricity use, the electricity use of similar nearby homes, and the electricity use of efficient nearby homes.'"
      ]
     },
     "execution_count": 20,
     "metadata": {},
     "output_type": "execute_result"
    }
   ],
   "source": [
    "query = \"How many elements are quantified in the annual electricity graph?\"\n",
    "docs = db.similarity_search(query)\n",
    "chain2.run(input_documents=docs, question=query)"
   ]
  },
  {
   "cell_type": "code",
   "execution_count": 21,
   "metadata": {},
   "outputs": [
    {
     "data": {
      "text/plain": [
       "' The first chart in the document is titled \"your annual electricity use compared with similar and efficient homes.\" It shows the annual electricity use of the home in question, represented by the blue bar, compared to the electricity use of similar-sized homes and efficient homes in the area. The x-axis represents the annual electricity use in kilowatt-hours (kWh), and the y-axis represents the number of homes. The chart indicates that the home in question uses more electricity than similar homes, as its blue bar is to the right of the other bars on the chart. Additionally, it uses more electricity than the efficient homes, as its blue bar is to the right of the red line representing the efficient homes.'"
      ]
     },
     "execution_count": 21,
     "metadata": {},
     "output_type": "execute_result"
    }
   ],
   "source": [
    "query = \"In this document there are a couple of charts. Describe to me the meaning of the fiirst one.\"\n",
    "docs = db.similarity_search(query)\n",
    "chain2.run(input_documents=docs, question=query)"
   ]
  }
 ],
 "metadata": {
  "kernelspec": {
   "display_name": "_ECMX_",
   "language": "python",
   "name": "python3"
  },
  "language_info": {
   "codemirror_mode": {
    "name": "ipython",
    "version": 3
   },
   "file_extension": ".py",
   "mimetype": "text/x-python",
   "name": "python",
   "nbconvert_exporter": "python",
   "pygments_lexer": "ipython3",
   "version": "3.12.7"
  }
 },
 "nbformat": 4,
 "nbformat_minor": 2
}
